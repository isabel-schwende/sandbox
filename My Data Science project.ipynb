{
 "cells": [
  {
   "cell_type": "code",
   "execution_count": null,
   "metadata": {
    "collapsed": false
   },
   "outputs": [],
   "source": [
    "import pandas as pd\n",
    "import matplotlib as plt\n",
    "import numpy as np\n",
    "import matplotlib.pyplot as pplt\n",
    "from matplotlib.font_manager import FontProperties\n",
    "# Loading the data\n",
    "xl = pd.ExcelFile(\"/Users/isabel/Desktop/koito/crime_in_the_united_states.xls\")\n",
    "#print xl.sheet_names\n",
    "\n",
    "# saving data as dataframe \n",
    "df2 = xl.parse(xl.sheet_names[0])\n",
    "\n",
    "# data cleaning\n",
    "df = df2.ix[2:]\n",
    "df.columns = df.iloc[0]\n",
    "dff = df.reindex(df.index.drop(2))\n",
    "\n",
    "dfm = dff.dropna(0,'all')\n",
    "dfm = dfm.apply(pd.to_numeric, errors='ignore')\n",
    "df1A = dfm.ix[33:35]\n"
   ]
  },
  {
   "cell_type": "code",
   "execution_count": null,
   "metadata": {
    "collapsed": false
   },
   "outputs": [],
   "source": [
    "# Cleaning data for table 1A\n",
    "df1A.ix[33,1] = dfm.ix[22,1]/dfm.ix[21,1] *100 -100   #population ratio 2013/2012\n",
    "df1A.ix[34,1] = dfm.ix[22,1]/dfm.ix[18,1]  *100 -100 #population ratio 2013/2009\n",
    "df1A.ix[35,1] = dfm.ix[22,1]/dfm.ix[13,1] *100 -100  #population ratio 2013/2004\n",
    "df1A = df1A.dropna(1,'all')\n",
    "\n",
    "df1A=df1A.rename(columns = {'Population1':'Relative population change'})\n",
    "\n",
    "df1A"
   ]
  },
  {
   "cell_type": "code",
   "execution_count": null,
   "metadata": {
    "collapsed": false
   },
   "outputs": [],
   "source": [
    "# Data fixing for main dataframe + fixing the cloumn names\n",
    "dfm = dfm.ix[:22]\n",
    "dfm = dfm.dropna(1,'all')\n",
    "dfm = dfm.ix[:, :20]\n",
    "dfm.ix[10,0]=2001\n",
    "dfm.ix[21,0]=2012\n",
    "dfm = dfm.apply(pd.to_numeric, errors='ignore')\n",
    "\n",
    "for idxs in range(len(dfm.columns)):\n",
    "    str1 = dfm.columns[idxs]\n",
    "    str2 = dfm.columns[idxs].replace('\\n', ' ')\n",
    "    dfm=dfm.rename(columns ={str1:str2})\n",
    "    #print str2\n",
    "\n",
    "#dfm.columns\n"
   ]
  },
  {
   "cell_type": "code",
   "execution_count": null,
   "metadata": {
    "collapsed": false
   },
   "outputs": [],
   "source": [
    "# preparing the split of columns for absolute numbers and relative numbers\n",
    "nruns = (len(dfm.columns)-2)*0.5\n",
    "\n",
    "st_idx = 2;\n",
    "newlist_idx = np.linspace(2,(len(dfm.columns)-2),nruns)\n",
    "\n",
    "newlist = dfm.columns[newlist_idx.astype(int)]\n",
    "newlist_idx = np.linspace(3,(len(dfm.columns)-1),nruns)\n",
    "newlistRate = dfm.columns[newlist_idx.astype(int)]\n",
    "#print newlistRate"
   ]
  },
  {
   "cell_type": "code",
   "execution_count": null,
   "metadata": {
    "collapsed": false
   },
   "outputs": [],
   "source": [
    "# Plot all absolute numbers except population vs year\n",
    "\n",
    "fontP = FontProperties()\n",
    "fontP.set_size('small')\n",
    "fig = pplt.figure()\n",
    "ax = pplt.subplot(111)\n",
    "\n",
    "for item in newlist:\n",
    "    ax.plot(dfm['Year'],dfm[item])\n",
    "box = ax.get_position()\n",
    "ax.set_position([box.x0, box.y0, box.width * 0.8, box.height])\n",
    "\n",
    "ax.legend(title=\"Total crime occurance\",loc='center left', prop = fontP, bbox_to_anchor=(1, 0.5))\n",
    "pplt.show()"
   ]
  },
  {
   "cell_type": "code",
   "execution_count": null,
   "metadata": {
    "collapsed": false
   },
   "outputs": [],
   "source": [
    "# Plot all relative numbers vs year\n",
    "fig = pplt.figure()\n",
    "ax = pplt.subplot(111)\n",
    "\n",
    "for item in newlistRate:\n",
    "    ax.plot(dfm['Year'],dfm[item])\n",
    "box = ax.get_position()\n",
    "ax.set_position([box.x0, box.y0, box.width * 0.8, box.height])\n",
    "\n",
    "ax.legend(title=\"Crime rates\",loc='center left', prop = fontP, bbox_to_anchor=(1, 0.5))\n",
    "pplt.show()"
   ]
  },
  {
   "cell_type": "code",
   "execution_count": null,
   "metadata": {
    "collapsed": false
   },
   "outputs": [],
   "source": [
    "# Create new data frame for computation results\n",
    "index = {'absolute (rel) change to 1994','yearly min change (rate)','yearly max change (rate)','yearly avg change (rate)'}\n",
    "columns = dfm.columns\n",
    "#print columns\n",
    "dfR = pd.DataFrame(index=index, columns=columns)\n",
    "dfR = dfR.drop('Year', 1)\n",
    "dfR = dfR.drop('Population1', 1)\n",
    "#print dfR"
   ]
  },
  {
   "cell_type": "code",
   "execution_count": null,
   "metadata": {
    "collapsed": false
   },
   "outputs": [],
   "source": [
    "# Compared with the first year of recordings in 1994, the rates in all crime categories went down\n",
    "\n",
    "for idx in range(len(newlistRate)):\n",
    "    item = newlistRate[idx]\n",
    "    itemlist = dfm[item]\n",
    "    rellist = itemlist[:]/itemlist[3]\n",
    "    #print dfm[item]\n",
    "    yearlylist = []\n",
    "    for rateidx in range(len(itemlist)-1):\n",
    "        #print itemlist\n",
    "        yearlylist.append(itemlist[rateidx+4]/itemlist[rateidx+3])\n",
    "    yearlylist.append(np.nan)\n",
    "    dfR[item]['absolute (rel) change to 1994'] = rellist[22]\n",
    "    dfR[item]['yearly min change (rate)'] = min(yearlylist)\n",
    "    dfR[item]['yearly max change (rate)'] = max(yearlylist)\n",
    "    dfR[item]['yearly avg change (rate)'] = np.nanmean(yearlylist)\n",
    "\n",
    "for idx in range(len(newlist)):\n",
    "    item = newlist[idx]\n",
    "    itemlist = dfm[item]\n",
    "    rellist = itemlist[:]-itemlist[3]\n",
    "    #print dfm[item]\n",
    "    yearlylist = []\n",
    "    for rateidx in range(len(itemlist)-1):\n",
    "        #print itemlist\n",
    "        yearlylist.append(itemlist[rateidx+4]-itemlist[rateidx+3])\n",
    "    yearlylist.append(np.nan)\n",
    "    dfR[item]['absolute (rel) change to 1994'] = rellist[22]\n",
    "    dfR[item]['yearly min change (rate)'] = min(yearlylist)\n",
    "    dfR[item]['yearly max change (rate)'] = max(yearlylist)\n",
    "    dfR[item]['yearly avg change (rate)'] = np.nanmean(yearlylist)    \n",
    "    \n",
    "dfR.head()\n"
   ]
  },
  {
   "cell_type": "code",
   "execution_count": null,
   "metadata": {
    "collapsed": false
   },
   "outputs": [],
   "source": [
    "dfR['Violent crime'].head()"
   ]
  },
  {
   "cell_type": "code",
   "execution_count": null,
   "metadata": {
    "collapsed": false
   },
   "outputs": [],
   "source": [
    "# Plot computation results\n",
    "\n",
    "x_dataRaw = dfR[newlistRate]#['yearly min change (rate)']\n",
    "x_data = x_dataRaw.loc['yearly avg change (rate)']\n",
    "#print x_data\n",
    "\n",
    "y_data = dfR[newlistRate]#['yearly min change (rate)']\n",
    "y_data = y_data.loc['absolute (rel) change to 1994']\n",
    "#print y_data\n",
    "fig = pplt.figure()\n",
    "ax = pplt.subplot(111)\n",
    "#box = ax.get_position()\n",
    "#ax.set_position([box.x0, box.y0, box.width * 0.8, box.height])\n",
    "\n",
    "#ax.legend(title=\"yearly min change vs absolute since 1994\")\n",
    "pplt.xlabel('yearly change (min,avg,max)')\n",
    "pplt.ylabel('absolute change(1994 to 2012)')\n",
    "pplt.plot(x_data, y_data, \"or\")\n",
    "x_data = x_dataRaw.loc['yearly min change (rate)']\n",
    "pplt.plot(x_data, y_data, \"ob\")\n",
    "x_data = x_dataRaw.loc['yearly max change (rate)']\n",
    "pplt.plot(x_data, y_data, \"og\")\n",
    "\n",
    "pplt.show()\n",
    "# Only the yearly change behaves nicely linear compared to the absolute change over all years in the data\n",
    "# min yearly change and max yearly change behave not linear versus overall change\n",
    "# so there is 'noise' in the data for how the changes happen. The change behaviour is linear overall"
   ]
  },
  {
   "cell_type": "code",
   "execution_count": null,
   "metadata": {
    "collapsed": true
   },
   "outputs": [],
   "source": []
  }
 ],
 "metadata": {
  "kernelspec": {
   "display_name": "Python 2",
   "language": "python",
   "name": "python2"
  },
  "language_info": {
   "codemirror_mode": {
    "name": "ipython",
    "version": 2
   },
   "file_extension": ".py",
   "mimetype": "text/x-python",
   "name": "python",
   "nbconvert_exporter": "python",
   "pygments_lexer": "ipython2",
   "version": "2.7.11"
  }
 },
 "nbformat": 4,
 "nbformat_minor": 0
}
