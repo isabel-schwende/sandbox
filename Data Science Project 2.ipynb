{
 "cells": [
  {
   "cell_type": "code",
   "execution_count": 1,
   "metadata": {
    "collapsed": false
   },
   "outputs": [],
   "source": [
    "import pandas as pd\n",
    "import matplotlib as plt\n",
    "import numpy as np\n",
    "from sklearn import preprocessing\n",
    "import matplotlib.pyplot as pplt\n",
    "from matplotlib.font_manager import FontProperties\n",
    "from sklearn.manifold import TSNE\n",
    "from scipy import stats\n",
    "import tensorflow as tf"
   ]
  },
  {
   "cell_type": "code",
   "execution_count": 2,
   "metadata": {
    "collapsed": false
   },
   "outputs": [
    {
     "data": {
      "text/html": [
       "<div>\n",
       "<table border=\"1\" class=\"dataframe\">\n",
       "  <thead>\n",
       "    <tr style=\"text-align: right;\">\n",
       "      <th></th>\n",
       "      <th>school</th>\n",
       "      <th>sex</th>\n",
       "      <th>age</th>\n",
       "      <th>address</th>\n",
       "      <th>famsize</th>\n",
       "      <th>Pstatus</th>\n",
       "      <th>Medu</th>\n",
       "      <th>Fedu</th>\n",
       "      <th>traveltime</th>\n",
       "      <th>studytime</th>\n",
       "      <th>...</th>\n",
       "      <th>Fjob_other</th>\n",
       "      <th>Fjob_services</th>\n",
       "      <th>Fjob_teacher</th>\n",
       "      <th>guardian_father</th>\n",
       "      <th>guardian_mother</th>\n",
       "      <th>guardian_other</th>\n",
       "      <th>reason_course</th>\n",
       "      <th>reason_home</th>\n",
       "      <th>reason_other</th>\n",
       "      <th>reason_reputation</th>\n",
       "    </tr>\n",
       "  </thead>\n",
       "  <tbody>\n",
       "    <tr>\n",
       "      <th>0</th>\n",
       "      <td>0</td>\n",
       "      <td>0</td>\n",
       "      <td>18</td>\n",
       "      <td>1</td>\n",
       "      <td>0</td>\n",
       "      <td>0</td>\n",
       "      <td>4</td>\n",
       "      <td>4</td>\n",
       "      <td>2</td>\n",
       "      <td>2</td>\n",
       "      <td>...</td>\n",
       "      <td>0</td>\n",
       "      <td>0</td>\n",
       "      <td>1</td>\n",
       "      <td>0</td>\n",
       "      <td>1</td>\n",
       "      <td>0</td>\n",
       "      <td>1</td>\n",
       "      <td>0</td>\n",
       "      <td>0</td>\n",
       "      <td>0</td>\n",
       "    </tr>\n",
       "    <tr>\n",
       "      <th>1</th>\n",
       "      <td>0</td>\n",
       "      <td>0</td>\n",
       "      <td>17</td>\n",
       "      <td>1</td>\n",
       "      <td>0</td>\n",
       "      <td>1</td>\n",
       "      <td>1</td>\n",
       "      <td>1</td>\n",
       "      <td>1</td>\n",
       "      <td>2</td>\n",
       "      <td>...</td>\n",
       "      <td>1</td>\n",
       "      <td>0</td>\n",
       "      <td>0</td>\n",
       "      <td>1</td>\n",
       "      <td>0</td>\n",
       "      <td>0</td>\n",
       "      <td>1</td>\n",
       "      <td>0</td>\n",
       "      <td>0</td>\n",
       "      <td>0</td>\n",
       "    </tr>\n",
       "    <tr>\n",
       "      <th>2</th>\n",
       "      <td>0</td>\n",
       "      <td>0</td>\n",
       "      <td>15</td>\n",
       "      <td>1</td>\n",
       "      <td>1</td>\n",
       "      <td>1</td>\n",
       "      <td>1</td>\n",
       "      <td>1</td>\n",
       "      <td>1</td>\n",
       "      <td>2</td>\n",
       "      <td>...</td>\n",
       "      <td>1</td>\n",
       "      <td>0</td>\n",
       "      <td>0</td>\n",
       "      <td>0</td>\n",
       "      <td>1</td>\n",
       "      <td>0</td>\n",
       "      <td>0</td>\n",
       "      <td>0</td>\n",
       "      <td>1</td>\n",
       "      <td>0</td>\n",
       "    </tr>\n",
       "    <tr>\n",
       "      <th>3</th>\n",
       "      <td>0</td>\n",
       "      <td>0</td>\n",
       "      <td>15</td>\n",
       "      <td>1</td>\n",
       "      <td>0</td>\n",
       "      <td>1</td>\n",
       "      <td>4</td>\n",
       "      <td>2</td>\n",
       "      <td>1</td>\n",
       "      <td>3</td>\n",
       "      <td>...</td>\n",
       "      <td>0</td>\n",
       "      <td>1</td>\n",
       "      <td>0</td>\n",
       "      <td>0</td>\n",
       "      <td>1</td>\n",
       "      <td>0</td>\n",
       "      <td>0</td>\n",
       "      <td>1</td>\n",
       "      <td>0</td>\n",
       "      <td>0</td>\n",
       "    </tr>\n",
       "    <tr>\n",
       "      <th>4</th>\n",
       "      <td>0</td>\n",
       "      <td>0</td>\n",
       "      <td>16</td>\n",
       "      <td>1</td>\n",
       "      <td>0</td>\n",
       "      <td>1</td>\n",
       "      <td>3</td>\n",
       "      <td>3</td>\n",
       "      <td>1</td>\n",
       "      <td>2</td>\n",
       "      <td>...</td>\n",
       "      <td>1</td>\n",
       "      <td>0</td>\n",
       "      <td>0</td>\n",
       "      <td>1</td>\n",
       "      <td>0</td>\n",
       "      <td>0</td>\n",
       "      <td>0</td>\n",
       "      <td>1</td>\n",
       "      <td>0</td>\n",
       "      <td>0</td>\n",
       "    </tr>\n",
       "  </tbody>\n",
       "</table>\n",
       "<p>5 rows × 46 columns</p>\n",
       "</div>"
      ],
      "text/plain": [
       "   school  sex  age  address  famsize  Pstatus  Medu  Fedu  traveltime  \\\n",
       "0       0    0   18        1        0        0     4     4           2   \n",
       "1       0    0   17        1        0        1     1     1           1   \n",
       "2       0    0   15        1        1        1     1     1           1   \n",
       "3       0    0   15        1        0        1     4     2           1   \n",
       "4       0    0   16        1        0        1     3     3           1   \n",
       "\n",
       "   studytime        ...          Fjob_other  Fjob_services  Fjob_teacher  \\\n",
       "0          2        ...                   0              0             1   \n",
       "1          2        ...                   1              0             0   \n",
       "2          2        ...                   1              0             0   \n",
       "3          3        ...                   0              1             0   \n",
       "4          2        ...                   1              0             0   \n",
       "\n",
       "   guardian_father  guardian_mother  guardian_other  reason_course  \\\n",
       "0                0                1               0              1   \n",
       "1                1                0               0              1   \n",
       "2                0                1               0              0   \n",
       "3                0                1               0              0   \n",
       "4                1                0               0              0   \n",
       "\n",
       "   reason_home  reason_other  reason_reputation  \n",
       "0            0             0                  0  \n",
       "1            0             0                  0  \n",
       "2            0             1                  0  \n",
       "3            1             0                  0  \n",
       "4            1             0                  0  \n",
       "\n",
       "[5 rows x 46 columns]"
      ]
     },
     "execution_count": 2,
     "metadata": {},
     "output_type": "execute_result"
    }
   ],
   "source": [
    "# Loading the data\n",
    "df = pd.read_csv(\"/Users/isabel/Desktop/koito/student-mat.csv\", sep=';')\n",
    "#df.info()\n",
    "bin_cols = [ 'school', 'sex', 'address', 'famsize', 'Pstatus','schoolsup','famsup','activities','paid','internet','nursery','higher','romantic']\n",
    "enc = preprocessing.LabelEncoder()\n",
    "\n",
    "#to convert into numbers\n",
    "for colName in bin_cols:\n",
    "    df[colName] = enc.fit_transform(df[colName])\n",
    "    #print max(df[colName])\n",
    "#df.tail()\n",
    "\n",
    "\n",
    "multi_cols = ['Mjob','Fjob','guardian','reason']\n",
    "\n",
    "for Ncols in multi_cols:\n",
    "    if Ncols in df.columns:\n",
    "        hoe = pd.get_dummies(df[Ncols])\n",
    "\n",
    "        for idxs in range(len(hoe.columns)):\n",
    "            str1 = hoe.columns[idxs]\n",
    "            str2 = Ncols+'_'+hoe.columns[idxs]\n",
    "            hoe=hoe.rename(columns ={str1:str2})\n",
    "        #print hoe.columns\n",
    "        df = df.drop(Ncols, axis=1)\n",
    "        df = df.join(hoe.astype(int))\n",
    "df.head()\n"
   ]
  },
  {
   "cell_type": "code",
   "execution_count": null,
   "metadata": {
    "collapsed": false
   },
   "outputs": [],
   "source": [
    "# Plot all relative numbers vs year\n",
    "fontP = FontProperties()\n",
    "fontP.set_size('small')\n",
    "fig = pplt.figure()\n",
    "ax = pplt.subplot(111)\n",
    "\n",
    "#for item in newlistRate:\n",
    "ax.plot(df['age'],df['Medu'], \"or\")\n",
    "box = ax.get_position()\n",
    "ax.set_position([box.x0, box.y0, box.width * 0.8, box.height])\n",
    "\n",
    "ax.legend(title=\"Alc data\",loc='center left', prop = fontP, bbox_to_anchor=(1, 0.5))\n",
    "pplt.show()"
   ]
  },
  {
   "cell_type": "code",
   "execution_count": null,
   "metadata": {
    "collapsed": false
   },
   "outputs": [],
   "source": [
    "# Plot original TSNE\n",
    "\n",
    "model = TSNE(n_components=2, random_state=0)\n",
    "np.set_printoptions(suppress=True)\n",
    "transX = model.fit_transform(df) \n",
    "fig = pplt.figure()\n",
    "pplt.scatter(transX[:, 0], transX[:, 1], c=df['G1'], cmap=pplt.cm.Spectral)\n",
    "pplt.title(\"t-SNE of classes\")\n",
    "pplt.show()\n",
    "\n",
    "# absences are circular with middle highest absence rate students, right bottom group low absence rate"
   ]
  },
  {
   "cell_type": "code",
   "execution_count": 3,
   "metadata": {
    "collapsed": false
   },
   "outputs": [
    {
     "name": "stdout",
     "output_type": "stream",
     "text": [
      "Index([u'school', u'sex', u'age', u'address', u'famsize', u'Pstatus', u'Medu',\n",
      "       u'Fedu', u'traveltime', u'studytime', u'failures', u'schoolsup',\n",
      "       u'famsup', u'paid', u'activities', u'nursery', u'higher', u'internet',\n",
      "       u'romantic', u'famrel', u'freetime', u'goout', u'health', u'absences',\n",
      "       u'G1', u'G2', u'G3', u'Mjob_at_home', u'Mjob_health', u'Mjob_other',\n",
      "       u'Mjob_services', u'Mjob_teacher', u'Fjob_at_home', u'Fjob_health',\n",
      "       u'Fjob_other', u'Fjob_services', u'Fjob_teacher', u'guardian_father',\n",
      "       u'guardian_mother', u'guardian_other', u'reason_course', u'reason_home',\n",
      "       u'reason_other', u'reason_reputation'],\n",
      "      dtype='object')\n"
     ]
    }
   ],
   "source": [
    "#More data cleaning and processing\n",
    "\n",
    "if 'Dalc' in df.columns:\n",
    "    Y_dataD = df['Dalc']\n",
    "    Y_dataD = Y_dataD[0:len(Y_dataD)].values\n",
    "    df = df.drop('Dalc', axis=1)\n",
    "if 'Walc' in df.columns:\n",
    "    Y_dataW = df['Walc']\n",
    "    Y_dataW = Y_dataW[0:len(Y_dataW)].values\n",
    "    df = df.drop('Walc', axis=1)\n",
    "#Y = df.join(hoe.astype(int))\n",
    "dfs = preprocessing.scale(df)\n",
    "#print dfs[0,1]\n",
    "print df.columns\n",
    "#print len(dfs[0])\n",
    "num_feat = len(dfs[0])\n",
    "num_samples = len(dfs)\n",
    "    \n",
    "Y_data = (2*Y_dataW+5*Y_dataD)/7\n",
    "#print Y_data[0:100]"
   ]
  },
  {
   "cell_type": "code",
   "execution_count": null,
   "metadata": {
    "collapsed": false
   },
   "outputs": [],
   "source": [
    "#Processed Data TSNE\n",
    "model = TSNE(n_components=2, random_state=0)\n",
    "np.set_printoptions(suppress=True)\n",
    "transX = model.fit_transform(dfs) \n",
    "fig = pplt.figure()\n",
    "pplt.scatter(transX[:, 0], transX[:, 1], c=Y_dataW, cmap=pplt.cm.Spectral)\n",
    "pplt.title(\"t-SNE of classes\")\n",
    "pplt.show()"
   ]
  },
  {
   "cell_type": "code",
   "execution_count": null,
   "metadata": {
    "collapsed": false
   },
   "outputs": [],
   "source": [
    "# Statsistical tests\n",
    "# Dalc and Walc are strongly correlated, although not normaldist, p-value not so accurate since data is small\n",
    "print stats.shapiro(Y_data)\n",
    "print stats.pearsonr(Y_data, Y_dataW)"
   ]
  },
  {
   "cell_type": "code",
   "execution_count": null,
   "metadata": {
    "collapsed": false
   },
   "outputs": [],
   "source": [
    "# Histogram plot \n",
    "pplt.hist(df['age'])\n",
    "pplt.title(\"Histogram\")\n",
    "pplt.xlabel(\"Value\")\n",
    "pplt.ylabel(\"Frequency\")\n",
    "\n",
    "fig = pplt.gcf()\n",
    "pplt.show()\n",
    "#Shows no normal distribution"
   ]
  },
  {
   "cell_type": "code",
   "execution_count": 15,
   "metadata": {
    "collapsed": false
   },
   "outputs": [],
   "source": [
    "# Data and model preparation for NN learning\n",
    "\n",
    "# pediction of Dalc\n",
    "def init_weights(shape):\n",
    "    return tf.Variable(tf.random_normal(shape, stddev=0.01))\n",
    "\n",
    "# Our model is a standard 1-hidden-layer multi-layer-perceptron with ReLU\n",
    "# activation. The softmax (which turns arbitrary real-valued outputs into\n",
    "# probabilities) gets applied in the cost function.\n",
    "def model(X, w_h, w_o):\n",
    "    h = tf.nn.relu(tf.matmul(X, w_h))\n",
    "    return tf.matmul(h, w_o)\n",
    "# How many units in the hidden layer + batch size\n",
    "NUM_HIDDEN = 200\n",
    "BATCH_SIZE = 128\n",
    "# Our variables. The input has width NUM_Feat, and the output has width 5\n",
    "X = tf.placeholder(\"float\", [None, num_feat])\n",
    "Y = tf.placeholder(\"float\", [None, 5])\n",
    "\n",
    "\n",
    "#w = init_weights([num_feat, 1]) # like in linear regression, we need a shared variable weight matrix for logistic regression\n",
    "w_h = init_weights([num_feat, NUM_HIDDEN])\n",
    "w_o = init_weights([NUM_HIDDEN, 5])\n",
    "\n",
    "#y = tf.matmul(tf.nn.relu(tf.matmul(X, w_h)), w_o)\n",
    "y = tf.matmul(tf.nn.relu(tf.matmul(X, w_h)), w_o)\n",
    "# Predict y given x using the model.\n",
    "py_x = model(X, w_h, w_o)\n",
    "\n",
    "cost = tf.reduce_mean(tf.nn.softmax_cross_entropy_with_logits(py_x, Y))\n",
    "train_op = tf.train.GradientDescentOptimizer(0.05).minimize(cost)\n",
    "predict_op = tf.argmax(py_x, 1) # at predict time, evaluate the argmax \n",
    "\n",
    "p = np.random.permutation(range(len(dfs)))\n",
    "allX, allY = dfs[p], Y_data[p]\n",
    "border = int(0.8*num_samples)\n",
    "hotY = pd.get_dummies(allY)\n",
    "hoty = hotY.as_matrix()\n",
    "\n",
    "trX = allX[:border]\n",
    "teX = allX[border:]\n",
    "trY = hoty[:border]\n",
    "teY = hoty[border:]\n"
   ]
  },
  {
   "cell_type": "code",
   "execution_count": 16,
   "metadata": {
    "collapsed": false
   },
   "outputs": [
    {
     "name": "stderr",
     "output_type": "stream",
     "text": [
      "Exception AssertionError: AssertionError() in <bound method InteractiveSession.__del__ of <tensorflow.python.client.session.InteractiveSession object at 0x1193f0650>> ignored\n"
     ]
    },
    {
     "name": "stdout",
     "output_type": "stream",
     "text": [
      "Run 1, 0.566666662693\n",
      "-1.03002e-05\n",
      "Run 21, 0.699999988079\n",
      "-0.000193513\n",
      "Run 41, 0.633333325386\n",
      "-0.000996464\n",
      "Run 61, 0.733333349228\n",
      "-0.00150201\n",
      "Run 81, 0.683333337307\n",
      "-0.00186838\n",
      "Run 101, 0.716666638851\n",
      "-0.00224142\n",
      "Run 121, 0.633333325386\n",
      "-0.00250458\n",
      "Run 141, 0.733333349228\n",
      "-0.00272843\n",
      "Run 161, 0.699999988079\n",
      "-0.00291935\n",
      "Run 181, 0.866666674614\n",
      "-0.00312305\n",
      "Run 201, 0.800000011921\n",
      "-0.00328836\n",
      "Run 221, 0.866666674614\n",
      "-0.00344558\n",
      "Run 241, 0.883333325386\n",
      "-0.00358987\n",
      "Run 261, 0.916666686535\n",
      "-0.00371235\n",
      "Run 281, 0.966666638851\n",
      "-0.00383605\n",
      "Run 301, 0.899999976158\n",
      "-0.00392617\n",
      "Run 321, 0.949999988079\n",
      "-0.00399846\n",
      "Run 341, 0.916666686535\n",
      "-0.00405571\n",
      "Run 361, 0.949999988079\n",
      "-0.00411178\n",
      "Run 381, 0.933333337307\n",
      "-0.00415202\n"
     ]
    }
   ],
   "source": [
    "# Launch the graph in an interactive session\n",
    "sess = tf.InteractiveSession()\n",
    "tf.initialize_all_variables().run()\n",
    "\n",
    "for epoch in range(400):\n",
    "    # Shuffle the data before each training iteration.\n",
    "    p = np.random.permutation(range(len(trX)))\n",
    "    trX, trY = trX[p], trY[p]\n",
    "\n",
    "    # Train in batches \n",
    "    for start in range(0, len(trX), BATCH_SIZE):\n",
    "        end = start + BATCH_SIZE        \n",
    "        sess.run(train_op, feed_dict={X: trX[start:end], Y: trY[start:end]})\n",
    "\n",
    "        \n",
    "    # And print the current accuracy on the training data.\n",
    "    if epoch % 20==0:\n",
    "        #compute accuracy\n",
    "        correct_prediction = tf.equal(tf.cast(tf.argmax(y,1), tf.float32),tf.cast(tf.argmax(Y,1), tf.float32) )\n",
    "        accuracy = tf.reduce_mean(tf.cast(correct_prediction, tf.float32))\n",
    "        result = sess.run(accuracy, feed_dict={X: trX[start:end], Y: trY[start:end]})\n",
    "        print 'Run {}, {}'.format(epoch+1, result)\n",
    "        \n",
    "        # average weight filter\n",
    "        wb = sess.run(w_h)\n",
    "        print np.mean(wb) \n",
    "\n"
   ]
  },
  {
   "cell_type": "code",
   "execution_count": 17,
   "metadata": {
    "collapsed": false
   },
   "outputs": [
    {
     "name": "stdout",
     "output_type": "stream",
     "text": [
      "Evaluation on test data 0.645569622517\n"
     ]
    }
   ],
   "source": [
    "# Check test error\n",
    "correct_prediction = tf.equal(tf.cast(tf.argmax(y,1), tf.float32),tf.cast(tf.argmax(Y,1), tf.float32) )\n",
    "accuracy = tf.reduce_mean(tf.cast(correct_prediction, tf.float32))\n",
    "result = sess.run(accuracy, feed_dict={X: teX[:], Y: teY[:]})\n",
    "print 'Evaluation on test data {}'.format(result)"
   ]
  },
  {
   "cell_type": "code",
   "execution_count": 7,
   "metadata": {
    "collapsed": true
   },
   "outputs": [],
   "source": [
    "# Close the Session when we're done.\n",
    "sess.close()"
   ]
  },
  {
   "cell_type": "code",
   "execution_count": null,
   "metadata": {
    "collapsed": true
   },
   "outputs": [],
   "source": [
    "#https://www.researchgate.net/publication/296695247_USING_DATA_MINING_TO_PREDICT_SECONDARY_SCHOOL_STUDENT_ALCOHOL_CONSUMPTION\n",
    "# paper also gives most relevant features by random forest\n",
    "# Only 92% accuracy achieved"
   ]
  }
 ],
 "metadata": {
  "kernelspec": {
   "display_name": "Python 2",
   "language": "python",
   "name": "python2"
  },
  "language_info": {
   "codemirror_mode": {
    "name": "ipython",
    "version": 2
   },
   "file_extension": ".py",
   "mimetype": "text/x-python",
   "name": "python",
   "nbconvert_exporter": "python",
   "pygments_lexer": "ipython2",
   "version": "2.7.11"
  }
 },
 "nbformat": 4,
 "nbformat_minor": 0
}
